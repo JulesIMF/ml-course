{
 "cells": [
  {
   "cell_type": "markdown",
   "metadata": {},
   "source": [
    "*Credits: materials from this notebook belong to YSDA [Practical DL](https://github.com/yandexdataschool/Practical_DL) course. Special thanks for making them available online.*"
   ]
  },
  {
   "cell_type": "markdown",
   "metadata": {},
   "source": [
    "# Lab assignment №1, part 1\n",
    "\n",
    "This lab assignment consists of several parts. You are supposed to make some transformations, train some models, estimate the quality of the models and explain your results.\n",
    "\n",
    "Several comments:\n",
    "* Don't hesitate to ask questions, it's a good practice.\n",
    "* No private/public sharing, please. The copied assignments will be graded with 0 points.\n",
    "* Blocks of this lab will be graded separately."
   ]
  },
  {
   "cell_type": "markdown",
   "metadata": {},
   "source": [
    "## 1. Matrix differentiation"
   ]
  },
  {
   "cell_type": "markdown",
   "metadata": {},
   "source": [
    "Since it easy to google every task please please please try to undestand what's going on. The \"just answer\" thing will be not counted, make sure to present derivation of your solution. It is absolutely OK if you found an answer on web then just exercise in $\\LaTeX$ copying it into here."
   ]
  },
  {
   "cell_type": "markdown",
   "metadata": {},
   "source": [
    "Useful links: \n",
    "[1](http://www.machinelearning.ru/wiki/images/2/2a/Matrix-Gauss.pdf)\n",
    "[2](http://www.atmos.washington.edu/~dennis/MatrixCalculus.pdf)"
   ]
  },
  {
   "cell_type": "markdown",
   "metadata": {},
   "source": [
    "## ex. 1"
   ]
  },
  {
   "cell_type": "markdown",
   "metadata": {},
   "source": [
    "$$  \n",
    "y = x^Tx,  \\quad x \\in \\mathbb{R}^N \n",
    "$$"
   ]
  },
  {
   "cell_type": "markdown",
   "metadata": {},
   "source": [
    "$$\n",
    "\\frac{dy}{dx} = 2x^T\n",
    "$$ \n",
    "\n",
    "As $d(x, x) = dx\\cdot x + x\\cdot dx = 2x^T\\cdot dx$."
   ]
  },
  {
   "cell_type": "code",
   "execution_count": null,
   "metadata": {
    "collapsed": true,
    "jupyter": {
     "outputs_hidden": true
    }
   },
   "outputs": [],
   "source": []
  },
  {
   "cell_type": "markdown",
   "metadata": {},
   "source": [
    "## ex. 2"
   ]
  },
  {
   "cell_type": "markdown",
   "metadata": {},
   "source": [
    "$$ y = tr(AB) \\quad A,B \\in \\mathbb{R}^{N \\times N} $$ "
   ]
  },
  {
   "cell_type": "markdown",
   "metadata": {},
   "source": [
    "$$\n",
    "\\frac{dy}{dA} = B^T.\n",
    "$$\n",
    "\n",
    "Let A = $\\{b_{ij}\\}$, B = $\\{b_{ij}\\}$.\n",
    "\n",
    "$d tr(AB) = tr(dA B)$. As trace is linear, we may consider only case $da = e_{ij}$ --- matrix with one on (i, j) and zero on other positions.\n",
    "\n",
    "Then $\\frac{\\partial y}{\\partial a_{ij}} = tr(e_{ij}\\cdot B) = b_{ji}$, as $b_{ji}$ is the only element multiplied by 1 from the {e_{ij}} so that result is on the diagonal.\n",
    "\n",
    "So, $\\frac{dy}{dA} = B^T$."
   ]
  },
  {
   "cell_type": "code",
   "execution_count": null,
   "metadata": {
    "collapsed": true,
    "jupyter": {
     "outputs_hidden": true
    }
   },
   "outputs": [],
   "source": []
  },
  {
   "cell_type": "markdown",
   "metadata": {},
   "source": [
    "## ex. 3"
   ]
  },
  {
   "cell_type": "markdown",
   "metadata": {},
   "source": [
    "$$  \n",
    "y = x^TAc , \\quad A\\in \\mathbb{R}^{N \\times N}, x\\in \\mathbb{R}^{N}, c\\in \\mathbb{R}^{N} \n",
    "$$"
   ]
  },
  {
   "cell_type": "markdown",
   "metadata": {},
   "source": [
    "$\\frac{dy}{dx} = \\frac{d(c^TA^Tx)}{dx} = c^TA^T.$ (Not $Ac$, because $Ac$ is contravariant!)"
   ]
  },
  {
   "cell_type": "markdown",
   "metadata": {},
   "source": [
    "$$\n",
    "\\frac{dy}{dA} = x c^T.\n",
    "$$\n",
    "\n",
    "Using the same trick as in ex 2,\n",
    "$$\n",
    "\\frac{\\partial y}{\\partial a_{ij}} = x^T e_{ij} c = c_i x_j \\Rightarrow \\frac{dy}{dA} = x c^T.\n",
    "$$"
   ]
  },
  {
   "cell_type": "markdown",
   "metadata": {},
   "source": [
    "Hint for the latter (one of the ways): use *ex. 2* result and the fact \n",
    "$$\n",
    "tr(ABC) = tr (CAB)\n",
    "$$"
   ]
  },
  {
   "cell_type": "code",
   "execution_count": null,
   "metadata": {
    "collapsed": true,
    "jupyter": {
     "outputs_hidden": true
    }
   },
   "outputs": [],
   "source": []
  },
  {
   "cell_type": "markdown",
   "metadata": {},
   "source": [
    "## ex. 4"
   ]
  },
  {
   "cell_type": "markdown",
   "metadata": {},
   "source": [
    "Classic matrix factorization example. Given matrix $X$ you need to find $A$, $S$ to approximate $X$. This can be done by simple gradient descent iteratively alternating $A$ and $S$ updates.\n",
    "$$\n",
    "J = || X - AS ||_F^2  , \\quad A\\in \\mathbb{R}^{N \\times R} , \\quad S\\in \\mathbb{R}^{R \\times M}\n",
    "$$\n",
    "\n",
    "<!-- $$\n",
    "\\frac{dJ}{dS} = \\frac{d}{dS} tr((X - AS)(X^T - S^TA^T)) = \\frac{d}{dS}\\left( tr(-ASX^T) + {dS}tr(-XS^TA^T) + {dS}tr(ASS^TA^T)\\right) = \n",
    "\\frac{d}{dS}\\left( -2tr(SX^TA) + tr(SS^TA^TA)\\right)=-2A^TX + A^TAS.                    \n",
    "$$ -->\n",
    "\n",
    "$$\n",
    "\\frac{dJ}{dS} = \\frac{d}{dS} || X - AS ||_F^2 = \\frac{d}{dS}\\langle X - AS, X - AS\\rangle _F = \\frac{d}{dS}\\left(\\langle AS, AS\\rangle _F - 2 \\langle AS, X\\rangle _F\\right) =\n",
    "$$\n",
    "$$\n",
    "=\\frac{d}{dS}(\\langle A^TAS, S\\rangle _F - 2 \\langle A^TX, S\\rangle _F) = A^TAS + (A^TAS)^TS - 2A^TX = 2(A^TAS - A^TX).\n",
    "$$\n",
    "\n",
    "~~You may use one of the following approaches:~~ I used first approach ($\\langle A, B \\rangle = tr(A^TB)$)."
   ]
  },
  {
   "cell_type": "markdown",
   "metadata": {},
   "source": [
    "#### First approach\n",
    "Using ex.2 and the fact:\n",
    "$$\n",
    "|| X ||_F^2 = tr(XX^T) \n",
    "$$ \n",
    "it is easy to derive gradients (you can find it in one of the refs). "
   ]
  },
  {
   "cell_type": "markdown",
   "metadata": {},
   "source": [
    "#### Second approach\n",
    "You can use *slightly different techniques* if they suits you. Take a look at this derivation:\n",
    "<img src=\"grad.png\">\n",
    "(excerpt from [Handbook of blind source separation, Jutten, page 517](https://books.google.ru/books?id=PTbj03bYH6kC&printsec=frontcover&dq=Handbook+of+Blind+Source+Separation&hl=en&sa=X&ved=0ahUKEwi-q_apiJDLAhULvXIKHVXJDWcQ6AEIHDAA#v=onepage&q=Handbook%20of%20Blind%20Source%20Separation&f=false), open for better picture)."
   ]
  },
  {
   "cell_type": "markdown",
   "metadata": {},
   "source": [
    "#### Third approach\n",
    "And finally we can use chain rule! \n",
    "let $ F = AS $ \n",
    "\n",
    "**Find**\n",
    "$$\n",
    "\\frac{dJ}{dF} =  \n",
    "$$ \n",
    "and \n",
    "$$\n",
    "\\frac{dF}{dS} =  \n",
    "$$ \n",
    "(the shape should be $ NM \\times RM )$.\n",
    "\n",
    "Now it is easy do get desired gradients:\n",
    "$$\n",
    "\\frac{dJ}{dS} =  \n",
    "$$ "
   ]
  },
  {
   "cell_type": "markdown",
   "metadata": {
    "collapsed": true,
    "jupyter": {
     "outputs_hidden": true
    }
   },
   "source": [
    "## 2. kNN questions\n",
    "Here come the questions from the assignment0_01. Please, refer to the assignment0_01 to get the context of the questions."
   ]
  },
  {
   "cell_type": "markdown",
   "metadata": {},
   "source": [
    "### Question 1\n",
    "\n",
    "Notice the structured patterns in the distance matrix, where some rows or columns are visible brighter. (Note that with the default color scheme black indicates low distances while white indicates high distances.)\n",
    "\n",
    "- What in the data is the cause behind the distinctly bright rows?\n",
    "- What causes the columns?\n",
    "\n",
    "*Your Answer:* brght rows are caused by outliers in the test set, while columns by outliers in the training set.\n",
    "\n",
    "\n"
   ]
  },
  {
   "cell_type": "markdown",
   "metadata": {},
   "source": [
    "### Question 2\n",
    "\n",
    "We can also use other distance metrics such as L1 distance.\n",
    "For pixel values $p_{ij}^{(k)}$ at location $(i,j)$ of some image $I_k$, \n",
    "\n",
    "the mean $\\mu$ across all pixels over all images is $$\\mu=\\frac{1}{nhw}\\sum_{k=1}^n\\sum_{i=1}^{h}\\sum_{j=1}^{w}p_{ij}^{(k)}$$\n",
    "And the pixel-wise mean $\\mu_{ij}$ across all images is \n",
    "$$\\mu_{ij}=\\frac{1}{n}\\sum_{k=1}^np_{ij}^{(k)}.$$\n",
    "The general standard deviation $\\sigma$ and pixel-wise standard deviation $\\sigma_{ij}$ is defined similarly.\n",
    "\n",
    "Which of the following preprocessing steps will not change the performance of a Nearest Neighbor classifier that uses L1 distance? Select all that apply.\n",
    "1. Subtracting the mean $\\mu$ ($\\tilde{p}_{ij}^{(k)}=p_{ij}^{(k)}-\\mu$.)\n",
    "2. Subtracting the per pixel mean $\\mu_{ij}$  ($\\tilde{p}_{ij}^{(k)}=p_{ij}^{(k)}-\\mu_{ij}$.)\n",
    "3. Subtracting the mean $\\mu$ and dividing by the standard deviation $\\sigma$.\n",
    "4. Subtracting the pixel-wise mean $\\mu_{ij}$ and dividing by the pixel-wise standard deviation $\\sigma_{ij}$.\n",
    "5. Rotating the coordinate axes of the data.\n",
    "\n",
    "*Your Answer:*\n",
    "1, 2, 3.\n",
    "\n",
    "*Your Explanation:*\n",
    "1. Won`t change, cause for any $k$, $l$: $|p^{(k)} - p^{(l)}|_1 = |p^{(k)} - \\Mu - p^{(l)} + \\Mu|_1 = |\\tilde{p}^{(k)} - \\tilde{p}^{(l)}|_1$ ($\\Mu_{i,j} = \\mu$ for any $i$, $j$)\n",
    "\n",
    "2. Won`t change, cause for any $k$, $l$: $|p^{(k)} - p^{(l)}|_1 = |p^{(k)} - \\Mu - p^{(l)} + \\Mu|_1 = |\\tilde{p}^{(k)} - \\tilde{p}^{(l)}|_1$ ($\\Mu_{i,j} = \\mu_{i, j}$ for any $i$, $j$)\n",
    "\n",
    "3. Won`t change. As we know from point 1, for any $k$, $l$, $s$, $t$: $|p^{(k)} - p^{(l)}|_1 = |\\tilde{p}^{(k)} - \\tilde{p}^{(l)}|_1$ and $|p^{(s)} - p^{(t)}|_1 = |\\tilde{p}^{(s)} - \\tilde{p}^{(t)}|_1$. So, \n",
    "$$\n",
    "|p^{(k)} - p^{(l)}|_1 < |p^{(s)} - p^{(t)}|_1 \\Leftrightarrow \\frac{|\\tilde{p}^{(k)} - \\tilde{p}^{(l)}|_1}{\\sigma} < \\frac{|\\tilde{p}^{(s)} - \\tilde{p}^{(t)}|_1}{\\sigma}\n",
    "$$\n",
    "\n",
    "4. May change. For 3-nn $A = \\left(\\begin{matrix} 0&0 \\end{matrix}\\right)$,\\ $B_1 = B_2 = \\left(\\begin{matrix} 2&0\\end{matrix}\\right)$,\\ $C_1 = C_2 = \\left(\\begin{matrix} 0&1 \\end{matrix}\\right)$ it may be wrong. Before processing 3 closest to $A$ are $A$, $C_1$ and $C_2$, so A is classified as C. After preprocessing we`ll get $A^{'} = \\left(\\begin{matrix} -\\frac{\\sqrt{2}}{\\sqrt{3}}&-\\frac{\\sqrt{2}}{\\sqrt{3}} \\end{matrix}\\right),\\ B_1^{'} = B_2^{'} = \\left(\\begin{matrix} \\frac{1}{\\sqrt{2}}&-\\frac{\\sqrt{2}}{\\sqrt{3}} \\end{matrix}\\right),\\ C_1^{'} = C_2^{'} = \\left(\\begin{matrix} -\\frac{\\sqrt{2}}{\\sqrt{3}}&\\frac{1}{\\sqrt{2}} \\end{matrix}\\right)$. Now B and C are equally close to A, and as B goes first, A is classified as B.\n",
    "\n",
    "5. May change. Let`s take for 3-nn $A = \\left(\\begin{matrix} 0&0 \\end{matrix}\\right),\\ B_1 = B_2 = \\left(\\begin{matrix} 1&1 \\end{matrix}\\right),\\ C_1 = C_2 = \\left(\\begin{matrix} 2&0 \\end{matrix}\\right)$. In l1 metrics B and C are equally close to A, so A is classified as B, cause B goes first. But after rotating by $\\frac{\\pi}{2}$ we get \n",
    "$A^{'} = \\left(\\begin{matrix} 0&0 \\end{matrix}\\right),\\ B_1^{'} = B_2^{'} = \\left(\\begin{matrix} 0&\\sqrt{2} \\end{matrix}\\right),\\ C_1^{'} = C_2^{'} = \\left(\\begin{matrix} \\sqrt{2}&\\sqrt{2} \\end{matrix}\\right)$. Now C is closer to A than B, so A is classified as C."
   ]
  },
  {
   "cell_type": "markdown",
   "metadata": {},
   "source": [
    "## Question 3\n",
    "\n",
    "Which of the following statements about $k$-Nearest Neighbor ($k$-NN) are true in a classification setting, and for all $k$? Select all that apply.\n",
    "1. The decision boundary (hyperplane between classes in feature space) of the k-NN classifier is linear.\n",
    "2. The training error of a 1-NN will always be lower than that of 5-NN.\n",
    "3. The test error of a 1-NN will always be lower than that of a 5-NN.\n",
    "4. The time needed to classify a test example with the k-NN classifier grows with the size of the training set.\n",
    "5. None of the above.\n",
    "\n",
    "*Your Answer:*\n",
    "2, 4\n",
    "\n",
    "*Your Explanation:*\n",
    "1) No. They may be locally linear (like Voronoi diagrams), but, for example, if we take two classes --- one forms a disk and other surrounds it, --- the boundary will look like circle.\n",
    "\n",
    "2) Yes/No. Training error of a 1-NN will always be 0%, as the closest point to a point from a trainig set is itself. But 5-NN trainig error may be also 0% (for example, every class contains at least 6 points and every class is way to far from other classes.), and in this case, trainig errors will be equal (not less).\n",
    "\n",
    "3) No. For example, consider two classes --- negative numbers and non-negative numbers; consider training set (-0.5, 1, 2, 3, 4) and test set (0). Error for 1-NN will be 100%, but for 5-NN it will be 0%.\n",
    "\n",
    "4) Yes. As you need to calculate distance to every point from the training set, the time will grow with increasing the power of training set."
   ]
  }
 ],
 "metadata": {
  "kernelspec": {
   "display_name": "Python 3.10.8 64-bit (microsoft store)",
   "language": "python",
   "name": "python3"
  },
  "language_info": {
   "codemirror_mode": {
    "name": "ipython",
    "version": 3
   },
   "file_extension": ".py",
   "mimetype": "text/x-python",
   "name": "python",
   "nbconvert_exporter": "python",
   "pygments_lexer": "ipython3",
   "version": "3.10.9 (tags/v3.10.9:1dd9be6, Dec  6 2022, 20:01:21) [MSC v.1934 64 bit (AMD64)]"
  },
  "vscode": {
   "interpreter": {
    "hash": "4147835d2db3118a90e7a02c03998270bb596f7141e68bbc4526eb1fb0013858"
   }
  }
 },
 "nbformat": 4,
 "nbformat_minor": 4
}
